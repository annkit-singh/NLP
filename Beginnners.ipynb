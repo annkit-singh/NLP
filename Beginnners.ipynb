{
  "nbformat": 4,
  "nbformat_minor": 0,
  "metadata": {
    "colab": {
      "name": "Beginnners.ipynb",
      "provenance": []
    },
    "kernelspec": {
      "name": "python3",
      "display_name": "Python 3"
    }
  },
  "cells": [
    {
      "cell_type": "code",
      "metadata": {
        "id": "JbNc286U1euq",
        "colab_type": "code",
        "colab": {}
      },
      "source": [
        "import tensorflow as tf\n",
        "from tensorflow import keras"
      ],
      "execution_count": 1,
      "outputs": []
    },
    {
      "cell_type": "code",
      "metadata": {
        "id": "vkXqUGPa1yC_",
        "colab_type": "code",
        "colab": {}
      },
      "source": [
        "from tensorflow.keras.preprocessing.text import Tokenizer\n",
        "from tensorflow.keras.preprocessing.sequence import pad_sequences"
      ],
      "execution_count": 2,
      "outputs": []
    },
    {
      "cell_type": "code",
      "metadata": {
        "id": "43hVye6P2BtB",
        "colab_type": "code",
        "colab": {}
      },
      "source": [
        "sentences=[\"A quick dog jump over the lazy fox\",\n",
        "           \"He loves to go to the school\",\n",
        "           \"'He is the pretty girl\",\"He is the man with wild smile\"]"
      ],
      "execution_count": 3,
      "outputs": []
    },
    {
      "cell_type": "code",
      "metadata": {
        "id": "VWtlliI92Thg",
        "colab_type": "code",
        "colab": {
          "base_uri": "https://localhost:8080/",
          "height": 55
        },
        "outputId": "bc175cc9-1b67-4ad7-a8dd-411f6f6a1030"
      },
      "source": [
        "tokeniser=Tokenizer(num_words=100,oov_token=\"<OOV>\")  #here num word defines as how for how manyy word we want indexing\n",
        "\n",
        "tokeniser.fit_on_texts(sentences)\n",
        "word_ind=tokeniser.word_index\n",
        "print(word_ind)\n"
      ],
      "execution_count": 5,
      "outputs": [
        {
          "output_type": "stream",
          "text": [
            "{'<OOV>': 1, 'the': 2, 'he': 3, 'to': 4, 'is': 5, 'a': 6, 'quick': 7, 'dog': 8, 'jump': 9, 'over': 10, 'lazy': 11, 'fox': 12, 'loves': 13, 'go': 14, 'school': 15, \"'he\": 16, 'pretty': 17, 'girl': 18, 'man': 19, 'with': 20, 'wild': 21, 'smile': 22}\n"
          ],
          "name": "stdout"
        }
      ]
    },
    {
      "cell_type": "code",
      "metadata": {
        "id": "sibod4Xt2fRd",
        "colab_type": "code",
        "colab": {
          "base_uri": "https://localhost:8080/",
          "height": 35
        },
        "outputId": "ed96d52f-9b72-44ef-ed56-5e23f7bdca10"
      },
      "source": [
        "sequnce=tokeniser.texts_to_sequences(sentences)\n",
        "print(sequnce)"
      ],
      "execution_count": 7,
      "outputs": [
        {
          "output_type": "stream",
          "text": [
            "[[6, 7, 8, 9, 10, 2, 11, 12], [3, 13, 4, 14, 4, 2, 15], [16, 5, 2, 17, 18], [3, 5, 2, 19, 20, 21, 22]]\n"
          ],
          "name": "stdout"
        }
      ]
    },
    {
      "cell_type": "code",
      "metadata": {
        "id": "qKQ6n2Re3LOH",
        "colab_type": "code",
        "colab": {
          "base_uri": "https://localhost:8080/",
          "height": 89
        },
        "outputId": "1e1e964b-b63e-4271-eb5f-13c8aa7bc6ba"
      },
      "source": [
        "padded=pad_sequences(sequnce,maxlen=10)   #maxlen means matrix size n*n\n",
        "print(padded)"
      ],
      "execution_count": 14,
      "outputs": [
        {
          "output_type": "stream",
          "text": [
            "[[ 0  0  6  7  8  9 10  2 11 12]\n",
            " [ 0  0  0  3 13  4 14  4  2 15]\n",
            " [ 0  0  0  0  0 16  5  2 17 18]\n",
            " [ 0  0  0  3  5  2 19 20 21 22]]\n"
          ],
          "name": "stdout"
        }
      ]
    },
    {
      "cell_type": "code",
      "metadata": {
        "id": "3dmJyqET3hQS",
        "colab_type": "code",
        "colab": {
          "base_uri": "https://localhost:8080/",
          "height": 89
        },
        "outputId": "093088dc-777f-497b-f8bd-e5ec2de21f3e"
      },
      "source": [
        "padded=pad_sequences(sequnce,maxlen=10,padding=\"post\")\n",
        "print(padded)"
      ],
      "execution_count": 15,
      "outputs": [
        {
          "output_type": "stream",
          "text": [
            "[[ 6  7  8  9 10  2 11 12  0  0]\n",
            " [ 3 13  4 14  4  2 15  0  0  0]\n",
            " [16  5  2 17 18  0  0  0  0  0]\n",
            " [ 3  5  2 19 20 21 22  0  0  0]]\n"
          ],
          "name": "stdout"
        }
      ]
    },
    {
      "cell_type": "code",
      "metadata": {
        "id": "m_royUNR4ZTX",
        "colab_type": "code",
        "colab": {
          "base_uri": "https://localhost:8080/",
          "height": 89
        },
        "outputId": "0e16e15f-8a71-4bf7-abee-243f7c0313af"
      },
      "source": [
        "padded=pad_sequences(sequnce,maxlen=5,padding=\"post\",truncating=\"post\")\n",
        "print(padded)"
      ],
      "execution_count": 16,
      "outputs": [
        {
          "output_type": "stream",
          "text": [
            "[[ 6  7  8  9 10]\n",
            " [ 3 13  4 14  4]\n",
            " [16  5  2 17 18]\n",
            " [ 3  5  2 19 20]]\n"
          ],
          "name": "stdout"
        }
      ]
    },
    {
      "cell_type": "code",
      "metadata": {
        "id": "5DmnhOsW4h5K",
        "colab_type": "code",
        "colab": {}
      },
      "source": [
        "test_data=[\"Wee are loving by our family\",\"Don't give a fuck to the fools\"]"
      ],
      "execution_count": 17,
      "outputs": []
    },
    {
      "cell_type": "code",
      "metadata": {
        "id": "y8YiTEEs4wtN",
        "colab_type": "code",
        "colab": {
          "base_uri": "https://localhost:8080/",
          "height": 35
        },
        "outputId": "eba9eff6-16ec-4f51-faf3-6b154c40c0ba"
      },
      "source": [
        "test_data"
      ],
      "execution_count": 18,
      "outputs": [
        {
          "output_type": "execute_result",
          "data": {
            "text/plain": [
              "['Wee are loving by our family', \"Don't give a fuck to the fools\"]"
            ]
          },
          "metadata": {
            "tags": []
          },
          "execution_count": 18
        }
      ]
    },
    {
      "cell_type": "code",
      "metadata": {
        "id": "kOdqzDi05CzJ",
        "colab_type": "code",
        "colab": {}
      },
      "source": [
        "test_data=tokeniser.texts_to_sequences(test_data)"
      ],
      "execution_count": 22,
      "outputs": []
    },
    {
      "cell_type": "code",
      "metadata": {
        "id": "vUDvcFbm5JOg",
        "colab_type": "code",
        "colab": {}
      },
      "source": [
        "padd_Test=pad_sequences(test_data)"
      ],
      "execution_count": 23,
      "outputs": []
    },
    {
      "cell_type": "code",
      "metadata": {
        "id": "MB717o8V5Y98",
        "colab_type": "code",
        "colab": {
          "base_uri": "https://localhost:8080/",
          "height": 53
        },
        "outputId": "27995758-bf2c-4cab-9e94-ab7fe301924a"
      },
      "source": [
        "print(padd_Test)"
      ],
      "execution_count": 24,
      "outputs": [
        {
          "output_type": "stream",
          "text": [
            "[[0 1 1 1 1 1 1]\n",
            " [1 1 6 1 4 2 1]]\n"
          ],
          "name": "stdout"
        }
      ]
    },
    {
      "cell_type": "code",
      "metadata": {
        "id": "xQkcRtIH5l5A",
        "colab_type": "code",
        "colab": {}
      },
      "source": [
        ""
      ],
      "execution_count": null,
      "outputs": []
    }
  ]
}