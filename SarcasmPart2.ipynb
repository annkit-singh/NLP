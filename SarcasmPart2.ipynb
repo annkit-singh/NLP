{
  "nbformat": 4,
  "nbformat_minor": 0,
  "metadata": {
    "accelerator": "GPU",
    "colab": {
      "name": "Course 3 - Week 2 - Lesson 2.ipynb",
      "provenance": [],
      "collapsed_sections": []
    },
    "kernelspec": {
      "display_name": "Python 3",
      "name": "python3"
    }
  },
  "cells": [
    {
      "cell_type": "code",
      "metadata": {
        "id": "zX4Kg8DUTKWO",
        "colab_type": "code",
        "colab": {}
      },
      "source": [
        "#@title Licensed under the Apache License, Version 2.0 (the \"License\");\n",
        "# you may not use this file except in compliance with the License.\n",
        "# You may obtain a copy of the License at\n",
        "#\n",
        "# https://www.apache.org/licenses/LICENSE-2.0\n",
        "#\n",
        "# Unless required by applicable law or agreed to in writing, software\n",
        "# distributed under the License is distributed on an \"AS IS\" BASIS,\n",
        "# WITHOUT WARRANTIES OR CONDITIONS OF ANY KIND, either express or implied.\n",
        "# See the License for the specific language governing permissions and\n",
        "# limitations under the License."
      ],
      "execution_count": null,
      "outputs": []
    },
    {
      "cell_type": "markdown",
      "metadata": {
        "colab_type": "text",
        "id": "view-in-github"
      },
      "source": [
        "<a href=\"https://colab.research.google.com/github/lmoroney/dlaicourse/blob/master/TensorFlow%20In%20Practice/Course%203%20-%20NLP/Course%203%20-%20Week%202%20-%20Lesson%202.ipynb\" target=\"_parent\"><img src=\"https://colab.research.google.com/assets/colab-badge.svg\" alt=\"Open In Colab\"/></a>"
      ]
    },
    {
      "cell_type": "code",
      "metadata": {
        "colab_type": "code",
        "id": "4gs9htvM7n_x",
        "colab": {}
      },
      "source": [
        "# Run this to ensure TensorFlow 2.x is used\n",
        "try:\n",
        "  # %tensorflow_version only exists in Colab.\n",
        "  %tensorflow_version 2.x\n",
        "except Exception:\n",
        "  pass"
      ],
      "execution_count": 2,
      "outputs": []
    },
    {
      "cell_type": "code",
      "metadata": {
        "colab_type": "code",
        "id": "XYYDvoskkE61",
        "colab": {}
      },
      "source": [
        "import json\n",
        "import tensorflow as tf\n",
        "\n",
        "from tensorflow.keras.preprocessing.text import Tokenizer\n",
        "from tensorflow.keras.preprocessing.sequence import pad_sequences"
      ],
      "execution_count": 3,
      "outputs": []
    },
    {
      "cell_type": "code",
      "metadata": {
        "colab_type": "code",
        "id": "0eJSTTYnkJQd",
        "colab": {}
      },
      "source": [
        "vocab_size = 100000\n",
        "embedding_dim = 32\n",
        "max_length = 1000\n",
        "trunc_type='post'\n",
        "padding_type='post'\n",
        "oov_tok = \"<OOV>\"\n",
        "training_size = 20000\n"
      ],
      "execution_count": 15,
      "outputs": []
    },
    {
      "cell_type": "code",
      "metadata": {
        "colab_type": "code",
        "id": "BQVuQrZNkPn9",
        "colab": {
          "base_uri": "https://localhost:8080/",
          "height": 215
        },
        "outputId": "6d509b1e-4b3c-4c0c-b5b3-6c7dfa00308d"
      },
      "source": [
        "!wget --no-check-certificate \\\n",
        "    https://storage.googleapis.com/laurencemoroney-blog.appspot.com/sarcasm.json \\\n",
        "    -O /tmp/sarcasm.json\n"
      ],
      "execution_count": 16,
      "outputs": [
        {
          "output_type": "stream",
          "text": [
            "--2020-09-16 04:07:10--  https://storage.googleapis.com/laurencemoroney-blog.appspot.com/sarcasm.json\n",
            "Resolving storage.googleapis.com (storage.googleapis.com)... 108.177.127.128, 172.217.218.128, 173.194.79.128, ...\n",
            "Connecting to storage.googleapis.com (storage.googleapis.com)|108.177.127.128|:443... connected.\n",
            "HTTP request sent, awaiting response... 200 OK\n",
            "Length: 5643545 (5.4M) [application/json]\n",
            "Saving to: ‘/tmp/sarcasm.json’\n",
            "\n",
            "\r/tmp/sarcasm.json     0%[                    ]       0  --.-KB/s               \r/tmp/sarcasm.json   100%[===================>]   5.38M  --.-KB/s    in 0.05s   \n",
            "\n",
            "2020-09-16 04:07:10 (108 MB/s) - ‘/tmp/sarcasm.json’ saved [5643545/5643545]\n",
            "\n"
          ],
          "name": "stdout"
        }
      ]
    },
    {
      "cell_type": "code",
      "metadata": {
        "colab_type": "code",
        "id": "oaLaaqhNkUPd",
        "colab": {}
      },
      "source": [
        "with open(\"/tmp/sarcasm.json\", 'r') as f:\n",
        "    datastore = json.load(f)\n",
        "\n",
        "sentences = []\n",
        "labels = []\n",
        "\n",
        "for item in datastore:\n",
        "    sentences.append(item['headline'])\n",
        "    labels.append(item['is_sarcastic'])"
      ],
      "execution_count": 17,
      "outputs": []
    },
    {
      "cell_type": "code",
      "metadata": {
        "colab_type": "code",
        "id": "S1sD-7v0kYWk",
        "colab": {}
      },
      "source": [
        "training_sentences = sentences[0:training_size]\n",
        "testing_sentences = sentences[training_size:]\n",
        "training_labels = labels[0:training_size]\n",
        "testing_labels = labels[training_size:]"
      ],
      "execution_count": 18,
      "outputs": []
    },
    {
      "cell_type": "code",
      "metadata": {
        "colab_type": "code",
        "id": "3u8UB0MCkZ5N",
        "colab": {}
      },
      "source": [
        "tokenizer = Tokenizer(num_words=vocab_size, oov_token=oov_tok)\n",
        "tokenizer.fit_on_texts(training_sentences)\n",
        "\n",
        "word_index = tokenizer.word_index\n",
        "\n",
        "training_sequences = tokenizer.texts_to_sequences(training_sentences)\n",
        "training_padded = pad_sequences(training_sequences, maxlen=max_length, padding=padding_type, truncating=trunc_type)\n",
        "\n",
        "testing_sequences = tokenizer.texts_to_sequences(testing_sentences)\n",
        "testing_padded = pad_sequences(testing_sequences, maxlen=max_length, padding=padding_type, truncating=trunc_type)"
      ],
      "execution_count": 19,
      "outputs": []
    },
    {
      "cell_type": "code",
      "metadata": {
        "colab_type": "code",
        "id": "GrAlWBKf99Ya",
        "colab": {}
      },
      "source": [
        "# Need this block to get it to work with TensorFlow 2.x\n",
        "import numpy as np\n",
        "training_padded = np.array(training_padded)\n",
        "training_labels = np.array(training_labels)\n",
        "testing_padded = np.array(testing_padded)\n",
        "testing_labels = np.array(testing_labels)"
      ],
      "execution_count": 20,
      "outputs": []
    },
    {
      "cell_type": "code",
      "metadata": {
        "colab_type": "code",
        "id": "FufaT4vlkiDE",
        "colab": {}
      },
      "source": [
        "model = tf.keras.Sequential([\n",
        "    tf.keras.layers.Embedding(vocab_size, embedding_dim, input_length=max_length),\n",
        "    tf.keras.layers.GlobalAveragePooling1D(),\n",
        "    tf.keras.layers.Dense(24, activation='relu'),\n",
        "    tf.keras.layers.Dense(1, activation='sigmoid')\n",
        "])\n",
        "model.compile(loss='binary_crossentropy',optimizer='adam',metrics=['accuracy'])"
      ],
      "execution_count": 21,
      "outputs": []
    },
    {
      "cell_type": "code",
      "metadata": {
        "colab_type": "code",
        "id": "XfDt1hmYkiys",
        "colab": {
          "base_uri": "https://localhost:8080/",
          "height": 305
        },
        "outputId": "632c5467-04bf-4409-9fec-9ac597aec1b8"
      },
      "source": [
        "model.summary()\n"
      ],
      "execution_count": 22,
      "outputs": [
        {
          "output_type": "stream",
          "text": [
            "Model: \"sequential_1\"\n",
            "_________________________________________________________________\n",
            "Layer (type)                 Output Shape              Param #   \n",
            "=================================================================\n",
            "embedding_1 (Embedding)      (None, 1000, 32)          3200000   \n",
            "_________________________________________________________________\n",
            "global_average_pooling1d_1 ( (None, 32)                0         \n",
            "_________________________________________________________________\n",
            "dense_2 (Dense)              (None, 24)                792       \n",
            "_________________________________________________________________\n",
            "dense_3 (Dense)              (None, 1)                 25        \n",
            "=================================================================\n",
            "Total params: 3,200,817\n",
            "Trainable params: 3,200,817\n",
            "Non-trainable params: 0\n",
            "_________________________________________________________________\n"
          ],
          "name": "stdout"
        }
      ]
    },
    {
      "cell_type": "code",
      "metadata": {
        "colab_type": "code",
        "id": "2DTKQFf1kkyc",
        "colab": {
          "base_uri": "https://localhost:8080/",
          "height": 1000
        },
        "outputId": "946e102a-83c0-44da-f5c9-e52ccbc70c8b"
      },
      "source": [
        "num_epochs = 30\n",
        "history = model.fit(training_padded, training_labels, epochs=num_epochs, validation_data=(testing_padded, testing_labels), verbose=2)"
      ],
      "execution_count": 23,
      "outputs": [
        {
          "output_type": "stream",
          "text": [
            "Epoch 1/30\n",
            "625/625 - 17s - loss: 0.6857 - accuracy: 0.5603 - val_loss: 0.6842 - val_accuracy: 0.5633\n",
            "Epoch 2/30\n",
            "625/625 - 16s - loss: 0.6829 - accuracy: 0.5603 - val_loss: 0.6777 - val_accuracy: 0.5633\n",
            "Epoch 3/30\n",
            "625/625 - 17s - loss: 0.6510 - accuracy: 0.6153 - val_loss: 0.5981 - val_accuracy: 0.6558\n",
            "Epoch 4/30\n",
            "625/625 - 16s - loss: 0.5009 - accuracy: 0.8025 - val_loss: 0.4586 - val_accuracy: 0.7931\n",
            "Epoch 5/30\n",
            "625/625 - 16s - loss: 0.3868 - accuracy: 0.8492 - val_loss: 0.4080 - val_accuracy: 0.8207\n",
            "Epoch 6/30\n",
            "625/625 - 16s - loss: 0.3359 - accuracy: 0.8680 - val_loss: 0.3765 - val_accuracy: 0.8427\n",
            "Epoch 7/30\n",
            "625/625 - 16s - loss: 0.3034 - accuracy: 0.8823 - val_loss: 0.3637 - val_accuracy: 0.8501\n",
            "Epoch 8/30\n",
            "625/625 - 16s - loss: 0.2752 - accuracy: 0.8943 - val_loss: 0.3723 - val_accuracy: 0.8328\n",
            "Epoch 9/30\n",
            "625/625 - 16s - loss: 0.2514 - accuracy: 0.9037 - val_loss: 0.3485 - val_accuracy: 0.8559\n",
            "Epoch 10/30\n",
            "625/625 - 16s - loss: 0.2310 - accuracy: 0.9140 - val_loss: 0.3441 - val_accuracy: 0.8560\n",
            "Epoch 11/30\n",
            "625/625 - 17s - loss: 0.2185 - accuracy: 0.9176 - val_loss: 0.3460 - val_accuracy: 0.8559\n",
            "Epoch 12/30\n",
            "625/625 - 16s - loss: 0.1948 - accuracy: 0.9305 - val_loss: 0.3417 - val_accuracy: 0.8587\n",
            "Epoch 13/30\n",
            "625/625 - 16s - loss: 0.1810 - accuracy: 0.9328 - val_loss: 0.3745 - val_accuracy: 0.8408\n",
            "Epoch 14/30\n",
            "625/625 - 16s - loss: 0.1666 - accuracy: 0.9402 - val_loss: 0.3484 - val_accuracy: 0.8569\n",
            "Epoch 15/30\n",
            "625/625 - 16s - loss: 0.1531 - accuracy: 0.9456 - val_loss: 0.4337 - val_accuracy: 0.8237\n",
            "Epoch 16/30\n",
            "625/625 - 16s - loss: 0.1426 - accuracy: 0.9500 - val_loss: 0.3533 - val_accuracy: 0.8580\n",
            "Epoch 17/30\n",
            "625/625 - 16s - loss: 0.1282 - accuracy: 0.9567 - val_loss: 0.3544 - val_accuracy: 0.8597\n",
            "Epoch 18/30\n",
            "625/625 - 16s - loss: 0.1204 - accuracy: 0.9596 - val_loss: 0.3631 - val_accuracy: 0.8574\n",
            "Epoch 19/30\n",
            "625/625 - 16s - loss: 0.1115 - accuracy: 0.9620 - val_loss: 0.3665 - val_accuracy: 0.8597\n",
            "Epoch 20/30\n",
            "625/625 - 16s - loss: 0.1011 - accuracy: 0.9663 - val_loss: 0.3741 - val_accuracy: 0.8596\n",
            "Epoch 21/30\n",
            "625/625 - 16s - loss: 0.0929 - accuracy: 0.9701 - val_loss: 0.3994 - val_accuracy: 0.8501\n",
            "Epoch 22/30\n",
            "625/625 - 16s - loss: 0.0866 - accuracy: 0.9720 - val_loss: 0.3976 - val_accuracy: 0.8542\n",
            "Epoch 23/30\n",
            "625/625 - 16s - loss: 0.0814 - accuracy: 0.9733 - val_loss: 0.4001 - val_accuracy: 0.8565\n",
            "Epoch 24/30\n",
            "625/625 - 16s - loss: 0.0726 - accuracy: 0.9785 - val_loss: 0.4172 - val_accuracy: 0.8530\n",
            "Epoch 25/30\n",
            "625/625 - 16s - loss: 0.0671 - accuracy: 0.9797 - val_loss: 0.4216 - val_accuracy: 0.8553\n",
            "Epoch 26/30\n",
            "625/625 - 17s - loss: 0.0608 - accuracy: 0.9823 - val_loss: 0.4406 - val_accuracy: 0.8472\n",
            "Epoch 27/30\n",
            "625/625 - 17s - loss: 0.0564 - accuracy: 0.9832 - val_loss: 0.4685 - val_accuracy: 0.8468\n",
            "Epoch 28/30\n",
            "625/625 - 17s - loss: 0.0552 - accuracy: 0.9831 - val_loss: 0.5069 - val_accuracy: 0.8401\n",
            "Epoch 29/30\n",
            "625/625 - 17s - loss: 0.0500 - accuracy: 0.9844 - val_loss: 0.5241 - val_accuracy: 0.8292\n",
            "Epoch 30/30\n",
            "625/625 - 16s - loss: 0.0453 - accuracy: 0.9865 - val_loss: 0.4808 - val_accuracy: 0.8509\n"
          ],
          "name": "stdout"
        }
      ]
    },
    {
      "cell_type": "code",
      "metadata": {
        "colab_type": "code",
        "id": "2HYfBKXjkmU8",
        "colab": {
          "base_uri": "https://localhost:8080/",
          "height": 580
        },
        "outputId": "2b6d222e-cbe5-4fd2-c81f-a88912d69574"
      },
      "source": [
        "import matplotlib.pyplot as plt\n",
        "print(history.history)\n",
        "\n",
        "\n",
        "def plot_graphs(history, string):\n",
        "  plt.plot(history.history[string])\n",
        "  plt.plot(history.history['val_'+string])\n",
        "  plt.xlabel(\"Epochs\")\n",
        "  plt.ylabel(string)\n",
        "  plt.legend([string, 'val_'+string])\n",
        "  plt.show()\n",
        "  \n",
        "plot_graphs(history, \"accuracy\")\n",
        "plot_graphs(history, \"loss\")"
      ],
      "execution_count": 24,
      "outputs": [
        {
          "output_type": "stream",
          "text": [
            "{'loss': [0.6856735944747925, 0.6828787326812744, 0.6510095000267029, 0.5008787512779236, 0.386806845664978, 0.3359453082084656, 0.3033517599105835, 0.2751508951187134, 0.2514159083366394, 0.2309580147266388, 0.21848173439502716, 0.19479785859584808, 0.1810205578804016, 0.16659630835056305, 0.15308044850826263, 0.1426289975643158, 0.12816129624843597, 0.12039542198181152, 0.11147189885377884, 0.10109325498342514, 0.09294940531253815, 0.08655311912298203, 0.08139128237962723, 0.07257361710071564, 0.06705418974161148, 0.06083330512046814, 0.05636420473456383, 0.05518575385212898, 0.049959003925323486, 0.0453081913292408], 'accuracy': [0.5602999925613403, 0.5602999925613403, 0.6152999997138977, 0.8024500012397766, 0.8491500020027161, 0.8679999709129333, 0.8822500109672546, 0.894349992275238, 0.9036999940872192, 0.9139500260353088, 0.9175500273704529, 0.9304500222206116, 0.9327999949455261, 0.9401999711990356, 0.9455999732017517, 0.9500499963760376, 0.9567499756813049, 0.9596499800682068, 0.9620000123977661, 0.9663000106811523, 0.9700999855995178, 0.972000002861023, 0.9732999801635742, 0.9785000085830688, 0.9797499775886536, 0.9823499917984009, 0.9831500053405762, 0.9830999970436096, 0.9843999743461609, 0.9865000247955322], 'val_loss': [0.6842360496520996, 0.6777286529541016, 0.598142683506012, 0.4585716426372528, 0.40802302956581116, 0.37645673751831055, 0.3636791706085205, 0.372306227684021, 0.34852367639541626, 0.34411415457725525, 0.3460381329059601, 0.3416726887226105, 0.37448441982269287, 0.3484232425689697, 0.4337036609649658, 0.3532537519931793, 0.3543875217437744, 0.3630868196487427, 0.36648011207580566, 0.37406134605407715, 0.3994140625, 0.3976249396800995, 0.40005168318748474, 0.41721126437187195, 0.4215889871120453, 0.4406318664550781, 0.46854135394096375, 0.5069214105606079, 0.5240612626075745, 0.48080989718437195], 'val_accuracy': [0.5632731914520264, 0.5632731914520264, 0.6558354496955872, 0.7931137084960938, 0.8206886053085327, 0.8427485227584839, 0.8500521779060364, 0.8327619433403015, 0.8558652400970459, 0.8560143113136292, 0.8558652400970459, 0.8586972951889038, 0.8408108353614807, 0.8569086194038391, 0.8236696720123291, 0.8579519987106323, 0.859740674495697, 0.8573557734489441, 0.859740674495697, 0.8595916032791138, 0.8500521779060364, 0.8542256951332092, 0.8564614653587341, 0.8530332446098328, 0.8552690148353577, 0.8472201228141785, 0.8467729687690735, 0.840065598487854, 0.8291846513748169, 0.8509464859962463]}\n"
          ],
          "name": "stdout"
        },
        {
          "output_type": "display_data",
          "data": {
            "image/png": "[encoded data removed]",
            "text/plain": [
              "<Figure size 432x288 with 1 Axes>"
            ]
          },
          "metadata": {
            "tags": [],
            "needs_background": "light"
          }
        },
        {
          "output_type": "display_data",
          "data": {
            "image/png": "[encoded data removed]",
            "text/plain": [
              "<Figure size 432x288 with 1 Axes>"
            ]
          },
          "metadata": {
            "tags": [],
            "needs_background": "light"
          }
        }
      ]
    },
    {
      "cell_type": "code",
      "metadata": {
        "colab_type": "code",
        "id": "7SBdAZAenvzL",
        "colab": {
          "base_uri": "https://localhost:8080/",
          "height": 91
        },
        "outputId": "09813f8b-ed0e-4f46-95af-bb431cf704ef"
      },
      "source": [
        "reverse_word_index = dict([(value, key) for (key, value) in word_index.items()])\n",
        "\n",
        "def decode_sentence(text):\n",
        "    return ' '.join([reverse_word_index.get(i, '?') for i in text])\n",
        "\n",
        "print(decode_sentence(training_padded[0]))\n",
        "print(training_sentences[1])\n",
        "print(labels[1])"
      ],
      "execution_count": 15,
      "outputs": [
        {
          "output_type": "stream",
          "text": [
            "former <OOV> store clerk sues over secret 'black <OOV> for minority shoppers ? ? ? ? ? ? ? ? ? ? ? ? ? ? ? ? ? ? ? ? ? ? ? ? ? ? ? ? ? ? ? ? ? ? ? ? ? ? ? ? ? ? ? ? ? ? ? ? ? ? ? ? ? ? ? ? ? ? ? ? ? ? ? ? ? ? ? ? ? ? ? ? ? ? ? ? ? ? ? ? ? ? ? ? ? ? ? ?\n",
            "the 'roseanne' revival catches up to our thorny political mood, for better and worse\n",
            "0\n"
          ],
          "name": "stdout"
        }
      ]
    },
    {
      "cell_type": "code",
      "metadata": {
        "colab_type": "code",
        "id": "c9MqihtEkzQ9",
        "colab": {
          "base_uri": "https://localhost:8080/",
          "height": 35
        },
        "outputId": "af9e1427-e08e-4e36-8f8d-24cd52be3625"
      },
      "source": [
        "e = model.layers[0]\n",
        "weights = e.get_weights()[0]\n",
        "print(weights.shape) # shape: (vocab_size, embedding_dim)\n"
      ],
      "execution_count": 16,
      "outputs": [
        {
          "output_type": "stream",
          "text": [
            "(10000, 16)\n"
          ],
          "name": "stdout"
        }
      ]
    },
    {
      "cell_type": "code",
      "metadata": {
        "colab_type": "code",
        "id": "LoBXVffknldU",
        "colab": {}
      },
      "source": [
        "import io\n",
        "\n",
        "out_v = io.open('vecs.tsv', 'w', encoding='utf-8')\n",
        "out_m = io.open('meta.tsv', 'w', encoding='utf-8')\n",
        "for word_num in range(1, vocab_size):\n",
        "  word = reverse_word_index[word_num]\n",
        "  embeddings = weights[word_num]\n",
        "  out_m.write(word + \"\\n\")\n",
        "  out_v.write('\\t'.join([str(x) for x in embeddings]) + \"\\n\")\n",
        "out_v.close()\n",
        "out_m.close()"
      ],
      "execution_count": null,
      "outputs": []
    },
    {
      "cell_type": "code",
      "metadata": {
        "colab_type": "code",
        "id": "U4eZ5HtVnnEE",
        "colab": {}
      },
      "source": [
        "try:\n",
        "  from google.colab import files\n",
        "except ImportError:\n",
        "  pass\n",
        "else:\n",
        "  files.download('vecs.tsv')\n",
        "  files.download('meta.tsv')"
      ],
      "execution_count": null,
      "outputs": []
    },
    {
      "cell_type": "code",
      "metadata": {
        "colab_type": "code",
        "id": "cG8-ArY-qDcz",
        "colab": {}
      },
      "source": [
        "sentence = [\"granny starting to fear spiders in the garden might be real\", \"game of thrones season finale showing this sunday night\"]\n",
        "sequences = tokenizer.texts_to_sequences(sentence)\n",
        "padded = pad_sequences(sequences, maxlen=max_length, padding=padding_type, truncating=trunc_type)\n",
        "print(model.predict(padded))"
      ],
      "execution_count": null,
      "outputs": []
    }
  ]
}